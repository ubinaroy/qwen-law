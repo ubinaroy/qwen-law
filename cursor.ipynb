{
 "cells": [
  {
   "cell_type": "code",
   "execution_count": 8,
   "metadata": {},
   "outputs": [
    {
     "name": "stderr",
     "output_type": "stream",
     "text": [
      "Generating train split: 0 examples [00:00, ? examples/s]"
     ]
    },
    {
     "name": "stderr",
     "output_type": "stream",
     "text": [
      "Generating train split: 79692 examples [00:03, 22159.94 examples/s]\n"
     ]
    }
   ],
   "source": [
    "from datasets import load_dataset\n",
    "\n",
    "datasets_path = \"./datasets/\"\n",
    "\n",
    "datasets = load_dataset(path=datasets_path) # 会自动切分 train 和 test，这里提前选了 train 后面就不用选了"
   ]
  },
  {
   "cell_type": "code",
   "execution_count": 12,
   "metadata": {},
   "outputs": [
    {
     "name": "stdout",
     "output_type": "stream",
     "text": [
      "<class 'datasets.arrow_dataset.Dataset'>\n",
      "{'instruction': '你是一个精通法律的专家，请根据用户的问题给出专业的回答。', 'input': '违章停车与违法停车是否有区别？', 'output': '对违反道路交通安全法律、法规关于机动车停放、临时停车规定的，可以指出违法行为，并予以口头警告，令其立即驶离。机动车驾驶人不在现场或者虽在现场但拒绝立即驶离，妨碍其他车辆、行人通行的处二十元以上二百元以下罚款。现在人们大多是称作违法停车，因此在法律责任上也会更多一些，不要以为违反交通规章制度问题不大，不要认为违法停车是罚款而已。'}\n"
     ]
    }
   ],
   "source": [
    "print(type(datasets['train']))\n",
    "print(datasets['train'][0])"
   ]
  },
  {
   "cell_type": "code",
   "execution_count": 17,
   "metadata": {},
   "outputs": [],
   "source": [
    "# sft\n",
    "import torch\n",
    "import argparse\n",
    "# import swanlab\n",
    "import pandas as pd\n",
    "from peft import LoraConfig, prepare_model_for_kbit_training\n",
    "# from swanlab.integration.transformers import SwanLabCallback\n",
    "# import bitsandbytes as bnb # 需要在 GPU 环境下才能正确导入\n",
    "\n",
    "from transformers import TrainingArguments\n",
    "from transformers import (\n",
    "    AutoModelForCausalLM, \n",
    "    AutoTokenizer, \n",
    "    BitsAndBytesConfig, \n",
    "    DataCollatorForSeq2Seq\n",
    "    )\n",
    "\n",
    "from datasets import load_dataset, Dataset\n",
    "# from trl import SFTTrainer\n",
    "\n",
    "def process_func(example):\n",
    "    TEMPLATE = '<|im_start|>system\\n{}<|im_end|>\\n<|im_start|>user\\n{}<|im_end|>\\n<|im_start|>assistant\\n'\n",
    "    MAX_LENGTH = 1024\n",
    "\n",
    "    input_ids, attention_mask, labels = [], [], []\n",
    "\n",
    "    instruction = tokenizer(\n",
    "        TEMPLATE.format(example['instruction'], example['input']),\n",
    "        add_special_tokens=False,\n",
    "    )\n",
    "    response = tokenizer(f\"{example['output']}\", add_special_tokens=False)\n",
    "\n",
    "    input_ids = (\n",
    "        instruction[\"input_ids\"] + response[\"input_ids\"] + [tokenizer.pad_token_id]\n",
    "    )\n",
    "    attention_mask = instruction[\"attention_mask\"] + response[\"attention_mask\"] + [1]\n",
    "    labels = (\n",
    "        [-100] * len(instruction[\"input_ids\"])\n",
    "        + response[\"input_ids\"]\n",
    "        + [tokenizer.pad_token_id]\n",
    "    )\n",
    "\n",
    "    if len(input_ids) > MAX_LENGTH:  # 做一个截断\n",
    "        input_ids = input_ids[:MAX_LENGTH]\n",
    "        attention_mask = attention_mask[:MAX_LENGTH]\n",
    "        labels = labels[:MAX_LENGTH]\n",
    "        \n",
    "    return {\"input_ids\": input_ids, \"attention_mask\": attention_mask, \"labels\": labels}\n",
    "\n",
    "model_path = \"/data/qwen/Qwen2___5-7B-Instruct/\"\n",
    "tokenizer = AutoTokenizer.from_pretrained(\n",
    "    model_path, \n",
    "    use_fast=False, \n",
    "    trust_remote_code=True,         # If the model is defined by a remote code, trust it\n",
    ") \n",
    "\n"
   ]
  },
  {
   "cell_type": "code",
   "execution_count": 18,
   "metadata": {},
   "outputs": [],
   "source": [
    "datasets_path = \"./datasets/DISC-Law-SFT-Pair-QA-released.jsonl\"\n",
    "train_dataset = pd.read_json(datasets_path, lines=True)[10:10000]\n",
    "test_dataset = pd.read_json(datasets_path, lines=True)[:10]\n",
    "\n",
    "train_dataset = Dataset.from_pandas(train_dataset)\n"
   ]
  },
  {
   "cell_type": "code",
   "execution_count": 20,
   "metadata": {},
   "outputs": [
    {
     "name": "stderr",
     "output_type": "stream",
     "text": [
      "Map: 100%|██████████| 9990/9990 [02:18<00:00, 71.97 examples/s] \n"
     ]
    }
   ],
   "source": [
    "model_path = \"/data/qwen/Qwen2___5-7B-Instruct/\"\n",
    "tokenizer = AutoTokenizer.from_pretrained(\n",
    "    model_path, \n",
    "    use_fast=False, \n",
    "    trust_remote_code=True,         # If the model is defined by a remote code, trust it\n",
    ") \n",
    "\n",
    "train_dataset = train_dataset.map(\n",
    "    process_func, \n",
    "    remove_columns=train_dataset.column_names\n",
    "    )\n"
   ]
  },
  {
   "cell_type": "code",
   "execution_count": 22,
   "metadata": {},
   "outputs": [
    {
     "data": {
      "text/plain": [
       "datasets.arrow_dataset.Dataset"
      ]
     },
     "execution_count": 22,
     "metadata": {},
     "output_type": "execute_result"
    }
   ],
   "source": [
    "type(train_dataset)"
   ]
  },
  {
   "cell_type": "code",
   "execution_count": null,
   "metadata": {},
   "outputs": [],
   "source": [
    "from transformers import AutoModelForCausalLM, AutoTokenizer\n",
    "import torch\n",
    "from peft import PeftModel\n",
    "\n",
    "lora_path = \"/data/workbench/checkpoints/\"\n",
    "base_path = \"/data/qwen/Qwen2___5-7B-Instruct\"\n",
    "\n",
    "base_model = AutoModelForCausalLM.from_pretrained(\n",
    "    base_path, \n",
    "    device_map=\"auto\",\n",
    "    torch_dtype=torch.bfloat16,\n",
    "    trust_remote_code=True,\n",
    "    )\n",
    "\n",
    "model = PeftModel.from_pretrained(base_model, lora_path)\n",
    "model = model.merge_and_unload()\n",
    "\n",
    "# model = AutoModelForCausalLM.from_pretrained(\"/data/qwen/Qwen2___5-7B-Instruct/\")\n",
    "tokenizer = AutoTokenizer.from_pretrained(lora_path)\n",
    "\n",
    "INSTRUCTION = \"你是一个精通法律的专家，请根据用户的问题给出专业的回答。\"\n",
    "while True:\n",
    "    prompt = []\n",
    "    prompt.append({\"role\": \"system\", \"content\": INSTRUCTION})\n",
    "\n",
    "    print(\"--------------------\")\n",
    "    question = input('User: ' + '\\n')\n",
    "\n",
    "    prompt.append({\"role\": \"user\", \"content\": question})\n",
    "\n",
    "    input_text = tokenizer.apply_chat_template(\n",
    "            prompt,\n",
    "            tokenize=False,\n",
    "            add_generation_prompt=True\n",
    "        )\n",
    "    model_inputs = tokenizer([input_text], return_tensors=\"pt\").to(model.device)\n",
    "\n",
    "    if model_inputs.input_ids.size()[1]>32000:\n",
    "        break\n",
    "\n",
    "    generated_ids = model.generate(\n",
    "        model_inputs.input_ids,\n",
    "        max_new_tokens=1024,\n",
    "        pad_token_id=tokenizer.eos_token_id\n",
    "    )\n",
    "\n",
    "    if len(generated_ids)>114514:\n",
    "        break\n",
    "\n",
    "    generated_ids = [output_ids[len(input_ids):] for input_ids, output_ids in zip(model_inputs.input_ids, generated_ids)]\n",
    "\n",
    "    response = tokenizer.batch_decode(generated_ids, skip_special_tokens=True)[0]\n",
    "    print('Assistant:\\n')\n",
    "    print(response)\n",
    "\n",
    "    print(\"--------------------\")\n",
    "    print('\\n')\n",
    "\n",
    "\n"
   ]
  },
  {
   "cell_type": "code",
   "execution_count": 3,
   "metadata": {},
   "outputs": [
    {
     "data": {
      "text/plain": [
       "pandas.core.frame.DataFrame"
      ]
     },
     "execution_count": 3,
     "metadata": {},
     "output_type": "execute_result"
    }
   ],
   "source": [
    "import pandas as pd\n",
    "df = pd.read_parquet('/data/workbench/datasets/train-00000-of-00001.parquet',  engine='pyarrow')  # 本地文件\n",
    "type(df)"
   ]
  },
  {
   "cell_type": "code",
   "execution_count": 4,
   "metadata": {},
   "outputs": [
    {
     "data": {
      "text/plain": [
       "'（参考诉讼与非诉讼程序法-仲裁法2017-09-01：第十七条（一））\\n\\n根据《诉讼与非诉讼程序法-仲裁法2017-09-01》第十七条（一）规定，如果约定的仲裁事项超出了法律规定的仲裁范围，仲裁协议将会无效。因此，乙公司不能简单认为仲裁协议无效，而需要解释和证明合同纠纷是否超出了法律规定的仲裁范围。\\n诉讼与非诉讼程序法-仲裁法2017-09-01:    \"中国仲裁协会依照本法和民事诉讼法的有关规定制定仲裁规则。\",\\n 诉讼与非诉讼程序法-仲裁法2017-09-01:    \"第十六条 仲裁协议包括合同中订立的仲裁条款和以其他书面方式在纠纷发生前或者纠纷发生后达成的请求仲裁的协议。\",\\n 诉讼与非诉讼程序法-仲裁法2017-09-01:    \"仲裁协议应当具有下列内容：\",\\n 诉讼与非诉讼程序法-仲裁法2017-09-01:    \"（一）请求仲裁的意思表示；\",\\n 诉讼与非诉讼程序法-仲裁法2017-09-01:    \"（二）仲裁事项；\",\\n 诉讼与非诉讼程序法-仲裁法2017-09-01:    \"（三）选定的仲裁委员会。\",\\n 诉讼与非诉讼程序法-仲裁法2017-09-01:    \"第十七条 有下列情形之一的，仲裁协议无效：\",\\n 诉讼与非诉讼程序法-仲裁法2017-09-01:    \"（一）约定的仲裁事项超出法律规定的仲裁范围的；\",\\n'"
      ]
     },
     "execution_count": 4,
     "metadata": {},
     "output_type": "execute_result"
    }
   ],
   "source": [
    "new_columns = [\"prompt\", \"chosen\", \"rejected\"]\n",
    "df.columns = new_columns\n",
    "df['chosen'][0]"
   ]
  },
  {
   "cell_type": "code",
   "execution_count": 5,
   "metadata": {},
   "outputs": [],
   "source": [
    "import pandas as pd\n",
    "\n",
    "def is_valid_paragraph(para: str) -> bool:\n",
    "    \"\"\"验证单个自然段是否满足条件\"\"\"\n",
    "    stripped = para.strip()\n",
    "    # 必须同时满足：非空字符串 + 以句号结尾\n",
    "    return bool(stripped) and stripped.endswith(\"。\")\n",
    "\n",
    "def process_text(text: str) -> str:\n",
    "    \"\"\"\n",
    "    处理文本的核心逻辑\n",
    "    参数：\n",
    "        text : 原始文本（用换行符分隔的自然段）\n",
    "    返回：\n",
    "        处理后的文本，保留原段落结构\n",
    "    \"\"\"\n",
    "    # 分割自然段并保留原始换行结构\n",
    "    original_paragraphs = text.split('\\n')\n",
    "    \n",
    "    # 过滤有效段落\n",
    "    valid_paragraphs = []\n",
    "    for para in original_paragraphs:\n",
    "        # 保留原始段落格式，仅过滤不符合条件的\n",
    "        if is_valid_paragraph(para):\n",
    "            valid_paragraphs.append(para)\n",
    "    \n",
    "    # 重新组合有效段落\n",
    "    return '\\n'.join(valid_paragraphs)\n",
    "\n",
    "def clean_dataframe(df: pd.DataFrame) -> pd.DataFrame:\n",
    "    \"\"\"清洗DataFrame中的指定列\"\"\"\n",
    "    for col in ['chosen', 'rejected']:\n",
    "        df[col] = df[col].astype(str).apply(process_text)\n",
    "    return df\n",
    "\n",
    "# ----------------------------"
   ]
  },
  {
   "cell_type": "code",
   "execution_count": 6,
   "metadata": {},
   "outputs": [],
   "source": [
    "df = clean_dataframe(df)"
   ]
  },
  {
   "cell_type": "code",
   "execution_count": 12,
   "metadata": {},
   "outputs": [],
   "source": [
    "df = pd.read_csv(\"/data/workbench/datasets/law-gpt.csv\")"
   ]
  },
  {
   "cell_type": "code",
   "execution_count": 14,
   "metadata": {},
   "outputs": [
    {
     "data": {
      "text/plain": [
       "500"
      ]
     },
     "execution_count": 14,
     "metadata": {},
     "output_type": "execute_result"
    }
   ],
   "source": [
    "len(df)"
   ]
  },
  {
   "cell_type": "code",
   "execution_count": 13,
   "metadata": {},
   "outputs": [
    {
     "name": "stderr",
     "output_type": "stream",
     "text": [
      "Map: 100%|██████████| 500/500 [00:00<00:00, 11289.70 examples/s]\n"
     ]
    }
   ],
   "source": [
    "import pandas as pd\n",
    "from datasets import load_dataset, Dataset\n",
    "\n",
    "def process_func(examples):\n",
    "    prompt, chosen, rejected = [], [], []\n",
    "\n",
    "    text = f\"<|im_start|>user\\n{examples['prompt']}<|im_end|>\\n<|im_start|>assistant\\n\"\n",
    "    prompt.append(text)\n",
    "\n",
    "    # assert examples[\"chosen\"][i] == \"assistant\"\n",
    "    text = f\"{examples['chosen']}<|im_end|>\"\n",
    "    chosen.append(text)\n",
    "\n",
    "    # assert examples[\"rejected\"][i] == \"assistant\"\n",
    "    text = f\"{examples['rejected']}<|im_end|>\"\n",
    "    rejected.append(text)\n",
    "\n",
    "    result = {\"prompt\": prompt, \"chosen\": chosen, \"rejected\": rejected}\n",
    "    return result\n",
    "\n",
    "datasets_path = \"./datasets/law-gpt.csv\"\n",
    "df = pd.read_csv(datasets_path)\n",
    "bdf = pd.read_csv(datasets_path)\n",
    "tdf = Dataset.from_pandas(df)\n",
    "ttdf = tdf.map(\n",
    "    process_func,\n",
    "    remove_columns=train_dataset.column_names,\n",
    ")\n"
   ]
  },
  {
   "cell_type": "code",
   "execution_count": 12,
   "metadata": {},
   "outputs": [
    {
     "data": {
      "text/plain": [
       "'甲公司与乙公司签订了合同，其中包含仲裁条款，并选定了中国仲裁协会作为仲裁机构。当纠纷发生后，甲公司请求仲裁解决，但乙公司却表示仲裁协议无效，认为纠纷超出了法律规定的仲裁范围。这种情况下，仲裁协议是否有效？'"
      ]
     },
     "execution_count": 12,
     "metadata": {},
     "output_type": "execute_result"
    }
   ],
   "source": [
    "bdf['prompt'][0]\n"
   ]
  },
  {
   "cell_type": "code",
   "execution_count": 14,
   "metadata": {},
   "outputs": [
    {
     "data": {
      "text/plain": [
       "{'Unnamed: 0': 0,\n",
       " 'prompt': '甲公司与乙公司签订了合同，其中包含仲裁条款，并选定了中国仲裁协会作为仲裁机构。当纠纷发生后，甲公司请求仲裁解决，但乙公司却表示仲裁协议无效，认为纠纷超出了法律规定的仲裁范围。这种情况下，仲裁协议是否有效？',\n",
       " 'chosen': '根据《诉讼与非诉讼程序法-仲裁法2017-09-01》第十七条（一）规定，如果约定的仲裁事项超出了法律规定的仲裁范围，仲裁协议将会无效。因此，乙公司不能简单认为仲裁协议无效，而需要解释和证明合同纠纷是否超出了法律规定的仲裁范围。',\n",
       " 'rejected': '根据《民事诉讼法》相关规定，对依法设立的仲裁机构的裁决，一方当事人不履行的，对方当事人可以向有管辖权的人民法院申请执行。受申请的人民法院应当执行。被申请人提出证据证明仲裁裁决不应该执行的，经人民法院组成合议庭审查核实，可以裁定不予执行。但是，如果当事人在合同中没有订有仲裁条款或者事后没有达成书面仲裁协议，或者裁决的事项不属于仲裁协议的范围或者仲裁机构无权仲裁的，裁定依然应当执行。因此，在本案中，甲方可以向有管辖权的人民法院申请执行仲裁机构的裁决，乙方应当履行该裁决书。'}"
      ]
     },
     "execution_count": 14,
     "metadata": {},
     "output_type": "execute_result"
    }
   ],
   "source": [
    "tdf[0]"
   ]
  },
  {
   "cell_type": "code",
   "execution_count": 16,
   "metadata": {},
   "outputs": [
    {
     "data": {
      "text/plain": [
       "{'prompt': ['<|im_start|>user\\n甲公司与乙公司签订了合同，其中包含仲裁条款，并选定了中国仲裁协会作为仲裁机构。当纠纷发生后，甲公司请求仲裁解决，但乙公司却表示仲裁协议无效，认为纠纷超出了法律规定的仲裁范围。这种情况下，仲裁协议是否有效？<|im_end|>\\n<|im_start|>assistant\\n'],\n",
       " 'chosen': ['根据《诉讼与非诉讼程序法-仲裁法2017-09-01》第十七条（一）规定，如果约定的仲裁事项超出了法律规定的仲裁范围，仲裁协议将会无效。因此，乙公司不能简单认为仲裁协议无效，而需要解释和证明合同纠纷是否超出了法律规定的仲裁范围。<|im_end|>'],\n",
       " 'rejected': ['根据《民事诉讼法》相关规定，对依法设立的仲裁机构的裁决，一方当事人不履行的，对方当事人可以向有管辖权的人民法院申请执行。受申请的人民法院应当执行。被申请人提出证据证明仲裁裁决不应该执行的，经人民法院组成合议庭审查核实，可以裁定不予执行。但是，如果当事人在合同中没有订有仲裁条款或者事后没有达成书面仲裁协议，或者裁决的事项不属于仲裁协议的范围或者仲裁机构无权仲裁的，裁定依然应当执行。因此，在本案中，甲方可以向有管辖权的人民法院申请执行仲裁机构的裁决，乙方应当履行该裁决书。<|im_end|>']}"
      ]
     },
     "execution_count": 16,
     "metadata": {},
     "output_type": "execute_result"
    }
   ],
   "source": [
    "ttdf[0]"
   ]
  },
  {
   "cell_type": "code",
   "execution_count": 17,
   "metadata": {},
   "outputs": [
    {
     "name": "stdout",
     "output_type": "stream",
     "text": [
      "数据集列结构: ['prompt', 'chosen', 'rejected']\n",
      "样本示例: {'prompt': ['<|im_start|>user\\n甲公司与乙公司签订了合同，其中包含仲裁条款，并选定了中国仲裁协会作为仲裁机构。当纠纷发生后，甲公司请求仲裁解决，但乙公司却表示仲裁协议无效，认为纠纷超出了法律规定的仲裁范围。这种情况下，仲裁协议是否有效？<|im_end|>\\n<|im_start|>assistant\\n'], 'chosen': ['根据《诉讼与非诉讼程序法-仲裁法2017-09-01》第十七条（一）规定，如果约定的仲裁事项超出了法律规定的仲裁范围，仲裁协议将会无效。因此，乙公司不能简单认为仲裁协议无效，而需要解释和证明合同纠纷是否超出了法律规定的仲裁范围。<|im_end|>'], 'rejected': ['根据《民事诉讼法》相关规定，对依法设立的仲裁机构的裁决，一方当事人不履行的，对方当事人可以向有管辖权的人民法院申请执行。受申请的人民法院应当执行。被申请人提出证据证明仲裁裁决不应该执行的，经人民法院组成合议庭审查核实，可以裁定不予执行。但是，如果当事人在合同中没有订有仲裁条款或者事后没有达成书面仲裁协议，或者裁决的事项不属于仲裁协议的范围或者仲裁机构无权仲裁的，裁定依然应当执行。因此，在本案中，甲方可以向有管辖权的人民法院申请执行仲裁机构的裁决，乙方应当履行该裁决书。<|im_end|>']}\n",
      "\n",
      "检查列 'prompt':\n",
      "存在 1 种类型: {<class 'list'>}\n",
      "警告：检测到列表类型！DPOTrainer需要字符串类型字段\n",
      "\n",
      "检查列 'chosen':\n",
      "存在 1 种类型: {<class 'list'>}\n",
      "警告：检测到列表类型！DPOTrainer需要字符串类型字段\n",
      "\n",
      "检查列 'rejected':\n",
      "存在 1 种类型: {<class 'list'>}\n",
      "警告：检测到列表类型！DPOTrainer需要字符串类型字段\n"
     ]
    }
   ],
   "source": [
    "from datasets import Dataset\n",
    "\n",
    "# 检查数据集结构\n",
    "print(\"数据集列结构:\", ttdf.column_names)\n",
    "print(\"样本示例:\", ttdf[0])\n",
    "\n",
    "# 检查数据类型一致性\n",
    "for col in [\"prompt\", \"chosen\", \"rejected\"]:\n",
    "    print(f\"\\n检查列 '{col}':\")\n",
    "    sample_types = [type(x) for x in ttdf[col]]\n",
    "    unique_types = set(sample_types)\n",
    "    print(f\"存在 {len(unique_types)} 种类型: {unique_types}\")\n",
    "    if list in unique_types:\n",
    "        print(\"警告：检测到列表类型！DPOTrainer需要字符串类型字段\")"
   ]
  }
 ],
 "metadata": {
  "kernelspec": {
   "display_name": "qwen_law",
   "language": "python",
   "name": "python3"
  },
  "language_info": {
   "codemirror_mode": {
    "name": "ipython",
    "version": 3
   },
   "file_extension": ".py",
   "mimetype": "text/x-python",
   "name": "python",
   "nbconvert_exporter": "python",
   "pygments_lexer": "ipython3",
   "version": "3.10.16"
  }
 },
 "nbformat": 4,
 "nbformat_minor": 2
}
